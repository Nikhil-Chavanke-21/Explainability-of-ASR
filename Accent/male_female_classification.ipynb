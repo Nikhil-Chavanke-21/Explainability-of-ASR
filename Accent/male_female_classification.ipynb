{
 "cells": [
  {
   "cell_type": "code",
   "execution_count": 1,
   "metadata": {},
   "outputs": [],
   "source": [
    "import pickle\n",
    "import numpy as np\n",
    "from sklearn.svm import SVC\n",
    "from sklearn.pipeline import make_pipeline\n",
    "from sklearn.preprocessing import StandardScaler\n",
    "import matplotlib.pyplot as plt\n",
    "\n",
    "clf=[\n",
    "     make_pipeline(StandardScaler(), SVC(gamma='auto')),\n",
    "     make_pipeline(StandardScaler(), SVC(gamma='auto')),\n",
    "     make_pipeline(StandardScaler(), SVC(gamma='auto')),\n",
    "     make_pipeline(StandardScaler(), SVC(gamma='auto')),\n",
    "     make_pipeline(StandardScaler(), SVC(gamma='auto')),\n",
    "     make_pipeline(StandardScaler(), SVC(gamma='auto')),\n",
    "     make_pipeline(StandardScaler(), SVC(gamma='auto')),\n",
    "     make_pipeline(StandardScaler(), SVC(gamma='auto')),\n",
    "     make_pipeline(StandardScaler(), SVC(gamma='auto')),\n",
    "     make_pipeline(StandardScaler(), SVC(gamma='auto')),\n",
    "     make_pipeline(StandardScaler(), SVC(gamma='auto')),\n",
    "     make_pipeline(StandardScaler(), SVC(gamma='auto')),\n",
    "     make_pipeline(StandardScaler(), SVC(gamma='auto'))]\n"
   ]
  },
  {
   "cell_type": "code",
   "execution_count": 112,
   "metadata": {},
   "outputs": [],
   "source": [
    "x=[[],[],[],[],[],[],[],[],[],[],[],[],[]]\n",
    "f=open('x_female_slt_data.txt','rb')\n",
    "while True:\n",
    "    try:\n",
    "        a=pickle.load(f)\n",
    "        for i in range(13):\n",
    "            x[i].append(a[i].detach().numpy())\n",
    "    except EOFError as e:\n",
    "        break\n"
   ]
  },
  {
   "cell_type": "code",
   "execution_count": 148,
   "metadata": {},
   "outputs": [],
   "source": [
    "x1=[[],[],[],[],[],[],[],[],[],[],[],[],[]]\n",
    "f=open('x_male_bdl.txt','rb')\n",
    "while True:\n",
    "    try:\n",
    "        a=pickle.load(f)\n",
    "        for i in range(13):\n",
    "            x1[i].append(a[i].detach().numpy())\n",
    "    except EOFError as e:\n",
    "        break\n"
   ]
  },
  {
   "cell_type": "code",
   "execution_count": 149,
   "metadata": {},
   "outputs": [],
   "source": [
    "x_com=[[],[],[],[],[],[],[],[],[],[],[],[],[]]"
   ]
  },
  {
   "cell_type": "code",
   "execution_count": 150,
   "metadata": {},
   "outputs": [],
   "source": [
    "for i in range(len(x)):\n",
    "    x_com[i]=np.asarray(x[i]+x1[i])"
   ]
  },
  {
   "cell_type": "code",
   "execution_count": 151,
   "metadata": {},
   "outputs": [],
   "source": [
    "y=np.ones((1200,))\n",
    "y[0:600]=0"
   ]
  },
  {
   "cell_type": "code",
   "execution_count": 152,
   "metadata": {},
   "outputs": [],
   "source": [
    "#x_com[0].shape\n",
    "#y1=y.reshape(1, -1)"
   ]
  },
  {
   "cell_type": "code",
   "execution_count": 153,
   "metadata": {},
   "outputs": [],
   "source": [
    "#y2=y1.T"
   ]
  },
  {
   "cell_type": "code",
   "execution_count": 154,
   "metadata": {},
   "outputs": [
    {
     "data": {
      "text/plain": [
       "(1200, 768)"
      ]
     },
     "execution_count": 154,
     "metadata": {},
     "output_type": "execute_result"
    }
   ],
   "source": [
    "x_com[1].shape"
   ]
  },
  {
   "cell_type": "code",
   "execution_count": 155,
   "metadata": {},
   "outputs": [
    {
     "data": {
      "text/plain": [
       "(1200,)"
      ]
     },
     "execution_count": 155,
     "metadata": {},
     "output_type": "execute_result"
    }
   ],
   "source": [
    "y.shape"
   ]
  },
  {
   "cell_type": "code",
   "execution_count": 156,
   "metadata": {},
   "outputs": [],
   "source": [
    "from sklearn.model_selection import train_test_split\n",
    "#X_train, X_test, y_train, y_test = train_test_split(X, y, test_size=0.33, random_state=42)"
   ]
  },
  {
   "cell_type": "code",
   "execution_count": 157,
   "metadata": {},
   "outputs": [],
   "source": [
    "accuracy=[]\n",
    "\n",
    "for i in range(len(clf)):\n",
    "    X_train, X_test, y_train, y_test = train_test_split(x_com[i], y, test_size=0.40, random_state=42)\n",
    "    clf[i].fit(X_train,y_train)\n",
    "    y_pred=clf[i].predict(X_test)\n",
    "    accuracy.append(len(np.where((y_pred-y_test)==0)[0])/len(y_test))\n"
   ]
  },
  {
   "cell_type": "code",
   "execution_count": 161,
   "metadata": {},
   "outputs": [
    {
     "data": {
      "image/png": "[encoded data removed]",
      "text/plain": [
       "<Figure size 432x288 with 1 Axes>"
      ]
     },
     "metadata": {
      "needs_background": "light"
     },
     "output_type": "display_data"
    }
   ],
   "source": [
    "plt.plot(range(len(accuracy)),accuracy)\n",
    "plt.xlabel(\"Hidden Layer Number\")\n",
    "plt.ylabel(\"Accuracy\")\n",
    "plt.title('Same accent - differnt gender')\n",
    "plt.grid()\n",
    "plt.show()"
   ]
  },
  {
   "cell_type": "markdown",
   "metadata": {},
   "source": [
    "## Different Accent Differnt Gender"
   ]
  },
  {
   "cell_type": "code",
   "execution_count": 144,
   "metadata": {},
   "outputs": [],
   "source": [
    "x1=[[],[],[],[],[],[],[],[],[],[],[],[],[]]\n",
    "f=open('x_male_jmk.txt','rb')\n",
    "while True:\n",
    "    try:\n",
    "        a=pickle.load(f)\n",
    "        for i in range(13):\n",
    "            x1[i].append(a[i].detach().numpy())\n",
    "    except EOFError as e:\n",
    "        break\n"
   ]
  },
  {
   "cell_type": "code",
   "execution_count": 145,
   "metadata": {},
   "outputs": [],
   "source": [
    "for i in range(len(x)):\n",
    "    x_com[i]=np.asarray(x[i]+x1[i])\n",
    "\n",
    "accuracy=[]\n",
    "\n",
    "for i in range(len(clf)):\n",
    "    X_train, X_test, y_train, y_test = train_test_split(x_com[i], y, test_size=0.40, random_state=42)\n",
    "    clf[i].fit(X_train,y_train)\n",
    "    y_pred=clf[i].predict(X_test)\n",
    "    accuracy.append(len(np.where((y_pred-y_test)==0)[0])/len(y_test))\n",
    "    "
   ]
  },
  {
   "cell_type": "code",
   "execution_count": 147,
   "metadata": {},
   "outputs": [
    {
     "data": {
      "image/png": "[encoded data removed]",
      "text/plain": [
       "<Figure size 432x288 with 1 Axes>"
      ]
     },
     "metadata": {
      "needs_background": "light"
     },
     "output_type": "display_data"
    }
   ],
   "source": [
    "plt.plot(range(len(accuracy)),accuracy)\n",
    "plt.xlabel(\"Accuracy\")\n",
    "plt.ylabel(\"Hidden Layer Number\")\n",
    "plt.title('Different accent - differnt gender')\n",
    "plt.grid()\n",
    "plt.show()"
   ]
  },
  {
   "cell_type": "code",
   "execution_count": null,
   "metadata": {},
   "outputs": [],
   "source": []
  },
  {
   "cell_type": "code",
   "execution_count": null,
   "metadata": {},
   "outputs": [],
   "source": []
  }
 ],
 "metadata": {
  "kernelspec": {
   "display_name": "Python 3",
   "language": "python",
   "name": "python3"
  },
  "language_info": {
   "codemirror_mode": {
    "name": "ipython",
    "version": 3
   },
   "file_extension": ".py",
   "mimetype": "text/x-python",
   "name": "python",
   "nbconvert_exporter": "python",
   "pygments_lexer": "ipython3",
   "version": "3.7.7"
  }
 },
 "nbformat": 4,
 "nbformat_minor": 4
}
